{
 "cells": [
  {
   "cell_type": "code",
   "execution_count": 1,
   "id": "fe765d03",
   "metadata": {},
   "outputs": [],
   "source": [
    "from configparser import ConfigParser\n",
    "#Get the configparser object\n",
    "config_object = ConfigParser()\n",
    "\n",
    "#number_of_keywords : It will be the value of number of keywords to be extracted from a text.\n",
    "#min_length: the minimun length of words present in the keyword extracted.\n",
    "#max_length: the maximum length of words present in the keyword extracted.\n",
    "#max_ngram_size: It is the range of length of words present in keyword extarcted, which here will range from 1 to 3.\n",
    "\n",
    "config_object['rake'] ={'number_of_keywords': 5,\n",
    "                       'min_length':1,\n",
    "                       'max_length':3}\n",
    "\n",
    "config_object['yake'] ={'language' : \"en\",\n",
    "                        'max_ngram_size' : 3,\n",
    "                        'number_of_keywords' : 5}\n",
    "\n",
    "config_object['keyBert'] ={'number_of_keywords': 5,\n",
    "                       'min_length':1,\n",
    "                       'max_length':3}\n",
    "\n",
    "\n",
    "#The following are the inputs given - \n",
    "#data: contains Summaries in CSV file.\n",
    "\n",
    "config_object['Data'] = {\n",
    "    'data': 'New_Summaries.csv',\n",
    "    }\n",
    "\n",
    "#Write the above sections to preprocessing.ini file\n",
    "with open('Config.ini', 'w') as conf:\n",
    "    config_object.write(conf)\n"
   ]
  },
  {
   "cell_type": "code",
   "execution_count": null,
   "id": "ee93b447",
   "metadata": {},
   "outputs": [],
   "source": []
  }
 ],
 "metadata": {
  "kernelspec": {
   "display_name": "rake",
   "language": "python",
   "name": "rake"
  },
  "language_info": {
   "codemirror_mode": {
    "name": "ipython",
    "version": 3
   },
   "file_extension": ".py",
   "mimetype": "text/x-python",
   "name": "python",
   "nbconvert_exporter": "python",
   "pygments_lexer": "ipython3",
   "version": "3.9.12"
  }
 },
 "nbformat": 4,
 "nbformat_minor": 5
}
